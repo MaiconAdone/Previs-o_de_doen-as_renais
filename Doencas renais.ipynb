{
  "nbformat": 4,
  "nbformat_minor": 0,
  "metadata": {
    "colab": {
      "provenance": [],
      "collapsed_sections": [
        "NR5q46VeJeF0",
        "j6t660cbgnZu",
        "M93QQqKK4Qlk",
        "Xpjv-i5l7f2U",
        "Ftbp4tAN7kdt",
        "aHJfsQGA52mh",
        "fQTHir9o52mp",
        "V915uiKL52mq",
        "xvhCRQJ_52mr",
        "QMSy2Uw_HsOq",
        "56naA_1IO3eF",
        "ipJ0eeUmOhl7",
        "-kXCkUihK3XR",
        "6SIgbhs0L8GO",
        "D5ipVL97Mx4r",
        "lzp3TMPFN7Jq"
      ]
    },
    "kernelspec": {
      "name": "python3",
      "display_name": "Python 3"
    },
    "language_info": {
      "name": "python"
    }
  },
  "cells": [
    {
      "cell_type": "markdown",
      "source": [
        "\n",
        "# <font color='Black'> **Construindo a Máquina Preditiva com Machine Learning** </font>\n"
      ],
      "metadata": {
        "id": "qVv88_p-JPRM"
      }
    },
    {
      "cell_type": "markdown",
      "source": [
        "### Descobrindo quais são as melhores variáveis"
      ],
      "metadata": {
        "id": "56naA_1IO3eF"
      }
    },
    {
      "cell_type": "code",
      "execution_count": null,
      "metadata": {
        "scrolled": true,
        "id": "CW2rYQyY52ms"
      },
      "outputs": [],
      "source": [
        "# Verificando quais Features são as mais Importantes:\n",
        "from sklearn.ensemble import ExtraTreesClassifier\n",
        "import matplotlib.pyplot as plt\n"
      ]
    },
    {
      "cell_type": "code",
      "source": [
        "# Usando o ExtraTree  para nos mostrar as Variáveis mais Importantes\n",
        "model=ExtraTreesClassifier()\n",
        "model.fit(X,y)\n",
        "\n",
        "plt.figure(figsize=(8,6))\n",
        "ranked_features=pd.Series(model.feature_importances_,index=X.columns)\n",
        "ranked_features.nlargest(24).plot(kind='barh')\n",
        "plt.show()"
      ],
      "metadata": {
        "colab": {
          "base_uri": "https://localhost:8080/",
          "height": 374
        },
        "id": "g4aThGD0Jugb",
        "outputId": "8852b705-76c2-4e64-f841-ac88da558567"
      },
      "execution_count": null,
      "outputs": [
        {
          "output_type": "display_data",
          "data": {
            "image/png": "[encoded data removed]",
            "text/plain": [
              "<Figure size 576x432 with 1 Axes>"
            ]
          },
          "metadata": {
            "needs_background": "light"
          }
        }
      ]
    },
    {
      "cell_type": "markdown",
      "metadata": {
        "id": "GKUZ4lyK52ms"
      },
      "source": [
        "- Vamos construir nosso modelo baseline/ inicial somente com as 8 variáveis mais importantes."
      ]
    },
    {
      "cell_type": "code",
      "execution_count": null,
      "metadata": {
        "id": "cZfYymtB52ms",
        "colab": {
          "base_uri": "https://localhost:8080/"
        },
        "outputId": "9b5f421e-d36a-4c32-fb81-95f6e363752f"
      },
      "outputs": [
        {
          "output_type": "execute_result",
          "data": {
            "text/plain": [
              "Index(['sg', 'dm', 'htn', 'hemo', 'al', 'appet', 'pc', 'pe'], dtype='object')"
            ]
          },
          "metadata": {},
          "execution_count": 76
        }
      ],
      "source": [
        "#Função para ranquear as 8 mais importantes\n",
        "ranked_features.nlargest(8).index"
      ]
    },
    {
      "cell_type": "markdown",
      "source": [
        "### 4.1 - Separando as 8 melhores variáveis para a Máquina Preditiva"
      ],
      "metadata": {
        "id": "ipJ0eeUmOhl7"
      }
    },
    {
      "cell_type": "code",
      "execution_count": null,
      "metadata": {
        "id": "0ovERqbf52ms"
      },
      "outputs": [],
      "source": [
        "# Separando as 8 variáveis mais importantes em \"X\" para que o algoritmo treine com esses dados\n",
        "X = dataset[['sg', 'htn', 'hemo', 'dm', 'al', 'appet', 'rc', 'pc']]\n",
        "X.head()"
      ]
    },
    {
      "cell_type": "code",
      "execution_count": null,
      "metadata": {
        "id": "j-5MUl6B52ms",
        "colab": {
          "base_uri": "https://localhost:8080/",
          "height": 206
        },
        "outputId": "6627bf77-7200-41eb-d01a-7b4f5bb567d0"
      },
      "outputs": [
        {
          "output_type": "execute_result",
          "data": {
            "text/html": [
              "\n",
              "  <div id=\"df-30d987e2-ad88-44b0-b67f-5a629efa82c1\">\n",
              "    <div class=\"colab-df-container\">\n",
              "      <div>\n",
              "<style scoped>\n",
              "    .dataframe tbody tr th:only-of-type {\n",
              "        vertical-align: middle;\n",
              "    }\n",
              "\n",
              "    .dataframe tbody tr th {\n",
              "        vertical-align: top;\n",
              "    }\n",
              "\n",
              "    .dataframe thead th {\n",
              "        text-align: right;\n",
              "    }\n",
              "</style>\n",
              "<table border=\"1\" class=\"dataframe\">\n",
              "  <thead>\n",
              "    <tr style=\"text-align: right;\">\n",
              "      <th></th>\n",
              "      <th>sg</th>\n",
              "      <th>htn</th>\n",
              "      <th>hemo</th>\n",
              "      <th>dm</th>\n",
              "      <th>al</th>\n",
              "      <th>appet</th>\n",
              "      <th>rc</th>\n",
              "      <th>pc</th>\n",
              "    </tr>\n",
              "  </thead>\n",
              "  <tbody>\n",
              "    <tr>\n",
              "      <th>395</th>\n",
              "      <td>1.020</td>\n",
              "      <td>0.0</td>\n",
              "      <td>15.7</td>\n",
              "      <td>0.0</td>\n",
              "      <td>0.0</td>\n",
              "      <td>1.0</td>\n",
              "      <td>4.9</td>\n",
              "      <td>0.0</td>\n",
              "    </tr>\n",
              "    <tr>\n",
              "      <th>396</th>\n",
              "      <td>1.025</td>\n",
              "      <td>0.0</td>\n",
              "      <td>16.5</td>\n",
              "      <td>0.0</td>\n",
              "      <td>0.0</td>\n",
              "      <td>1.0</td>\n",
              "      <td>6.2</td>\n",
              "      <td>0.0</td>\n",
              "    </tr>\n",
              "    <tr>\n",
              "      <th>397</th>\n",
              "      <td>1.020</td>\n",
              "      <td>0.0</td>\n",
              "      <td>15.8</td>\n",
              "      <td>0.0</td>\n",
              "      <td>0.0</td>\n",
              "      <td>1.0</td>\n",
              "      <td>5.4</td>\n",
              "      <td>0.0</td>\n",
              "    </tr>\n",
              "    <tr>\n",
              "      <th>398</th>\n",
              "      <td>1.025</td>\n",
              "      <td>0.0</td>\n",
              "      <td>14.2</td>\n",
              "      <td>0.0</td>\n",
              "      <td>0.0</td>\n",
              "      <td>1.0</td>\n",
              "      <td>5.9</td>\n",
              "      <td>0.0</td>\n",
              "    </tr>\n",
              "    <tr>\n",
              "      <th>399</th>\n",
              "      <td>1.025</td>\n",
              "      <td>0.0</td>\n",
              "      <td>15.8</td>\n",
              "      <td>0.0</td>\n",
              "      <td>0.0</td>\n",
              "      <td>1.0</td>\n",
              "      <td>6.1</td>\n",
              "      <td>0.0</td>\n",
              "    </tr>\n",
              "  </tbody>\n",
              "</table>\n",
              "</div>\n",
              "      <button class=\"colab-df-convert\" onclick=\"convertToInteractive('df-30d987e2-ad88-44b0-b67f-5a629efa82c1')\"\n",
              "              title=\"Convert this dataframe to an interactive table.\"\n",
              "              style=\"display:none;\">\n",
              "        \n",
              "  <svg xmlns=\"http://www.w3.org/2000/svg\" height=\"24px\"viewBox=\"0 0 24 24\"\n",
              "       width=\"24px\">\n",
              "    <path d=\"M0 0h24v24H0V0z\" fill=\"none\"/>\n",
              "    <path d=\"M18.56 5.44l.94 2.06.94-2.06 2.06-.94-2.06-.94-.94-2.06-.94 2.06-2.06.94zm-11 1L8.5 8.5l.94-2.06 2.06-.94-2.06-.94L8.5 2.5l-.94 2.06-2.06.94zm10 10l.94 2.06.94-2.06 2.06-.94-2.06-.94-.94-2.06-.94 2.06-2.06.94z\"/><path d=\"M17.41 7.96l-1.37-1.37c-.4-.4-.92-.59-1.43-.59-.52 0-1.04.2-1.43.59L10.3 9.45l-7.72 7.72c-.78.78-.78 2.05 0 2.83L4 21.41c.39.39.9.59 1.41.59.51 0 1.02-.2 1.41-.59l7.78-7.78 2.81-2.81c.8-.78.8-2.07 0-2.86zM5.41 20L4 18.59l7.72-7.72 1.47 1.35L5.41 20z\"/>\n",
              "  </svg>\n",
              "      </button>\n",
              "      \n",
              "  <style>\n",
              "    .colab-df-container {\n",
              "      display:flex;\n",
              "      flex-wrap:wrap;\n",
              "      gap: 12px;\n",
              "    }\n",
              "\n",
              "    .colab-df-convert {\n",
              "      background-color: #E8F0FE;\n",
              "      border: none;\n",
              "      border-radius: 50%;\n",
              "      cursor: pointer;\n",
              "      display: none;\n",
              "      fill: #1967D2;\n",
              "      height: 32px;\n",
              "      padding: 0 0 0 0;\n",
              "      width: 32px;\n",
              "    }\n",
              "\n",
              "    .colab-df-convert:hover {\n",
              "      background-color: #E2EBFA;\n",
              "      box-shadow: 0px 1px 2px rgba(60, 64, 67, 0.3), 0px 1px 3px 1px rgba(60, 64, 67, 0.15);\n",
              "      fill: #174EA6;\n",
              "    }\n",
              "\n",
              "    [theme=dark] .colab-df-convert {\n",
              "      background-color: #3B4455;\n",
              "      fill: #D2E3FC;\n",
              "    }\n",
              "\n",
              "    [theme=dark] .colab-df-convert:hover {\n",
              "      background-color: #434B5C;\n",
              "      box-shadow: 0px 1px 3px 1px rgba(0, 0, 0, 0.15);\n",
              "      filter: drop-shadow(0px 1px 2px rgba(0, 0, 0, 0.3));\n",
              "      fill: #FFFFFF;\n",
              "    }\n",
              "  </style>\n",
              "\n",
              "      <script>\n",
              "        const buttonEl =\n",
              "          document.querySelector('#df-30d987e2-ad88-44b0-b67f-5a629efa82c1 button.colab-df-convert');\n",
              "        buttonEl.style.display =\n",
              "          google.colab.kernel.accessAllowed ? 'block' : 'none';\n",
              "\n",
              "        async function convertToInteractive(key) {\n",
              "          const element = document.querySelector('#df-30d987e2-ad88-44b0-b67f-5a629efa82c1');\n",
              "          const dataTable =\n",
              "            await google.colab.kernel.invokeFunction('convertToInteractive',\n",
              "                                                     [key], {});\n",
              "          if (!dataTable) return;\n",
              "\n",
              "          const docLinkHtml = 'Like what you see? Visit the ' +\n",
              "            '<a target=\"_blank\" href=https://colab.research.google.com/notebooks/data_table.ipynb>data table notebook</a>'\n",
              "            + ' to learn more about interactive tables.';\n",
              "          element.innerHTML = '';\n",
              "          dataTable['output_type'] = 'display_data';\n",
              "          await google.colab.output.renderOutput(dataTable, element);\n",
              "          const docLink = document.createElement('div');\n",
              "          docLink.innerHTML = docLinkHtml;\n",
              "          element.appendChild(docLink);\n",
              "        }\n",
              "      </script>\n",
              "    </div>\n",
              "  </div>\n",
              "  "
            ],
            "text/plain": [
              "        sg  htn  hemo   dm   al  appet   rc   pc\n",
              "395  1.020  0.0  15.7  0.0  0.0    1.0  4.9  0.0\n",
              "396  1.025  0.0  16.5  0.0  0.0    1.0  6.2  0.0\n",
              "397  1.020  0.0  15.8  0.0  0.0    1.0  5.4  0.0\n",
              "398  1.025  0.0  14.2  0.0  0.0    1.0  5.9  0.0\n",
              "399  1.025  0.0  15.8  0.0  0.0    1.0  6.1  0.0"
            ]
          },
          "metadata": {},
          "execution_count": 78
        }
      ],
      "source": [
        "#Função para ver os últimos registros\n",
        "X.tail()"
      ]
    },
    {
      "cell_type": "code",
      "execution_count": null,
      "metadata": {
        "id": "oHt-edZf52mt",
        "colab": {
          "base_uri": "https://localhost:8080/"
        },
        "outputId": "2e971841-eecb-4a60-bf36-303d6662b471"
      },
      "outputs": [
        {
          "output_type": "execute_result",
          "data": {
            "text/plain": [
              "0    1\n",
              "1    1\n",
              "2    1\n",
              "3    1\n",
              "4    1\n",
              "Name: classification, dtype: int64"
            ]
          },
          "metadata": {},
          "execution_count": 79
        }
      ],
      "source": [
        "#Verificando o target\n",
        "y.head()"
      ]
    },
    {
      "cell_type": "markdown",
      "source": [
        "### 4.2 - Fazendo a amostragem dos dados para Treinar (dados de treino) e para Avaliar a Máquina Preditiva (dados de teste)"
      ],
      "metadata": {
        "id": "-kXCkUihK3XR"
      }
    },
    {
      "cell_type": "code",
      "execution_count": null,
      "metadata": {
        "id": "eybJapRU52mt"
      },
      "outputs": [],
      "source": [
        "# Train Test Split:\n",
        "from sklearn.model_selection import train_test_split\n",
        "X_train,X_test,y_train,y_test = train_test_split(X,y, test_size=0.3, random_state=33)"
      ]
    },
    {
      "cell_type": "code",
      "execution_count": null,
      "metadata": {
        "id": "zVGlRzRQ52mt"
      },
      "outputs": [],
      "source": [
        "print(X_train.shape)\n",
        "print(X_test.shape)"
      ]
    },
    {
      "cell_type": "markdown",
      "source": [
        "### 4.3 - Criando o Baseline com o Algoritmo **RandomForest**"
      ],
      "metadata": {
        "id": "6SIgbhs0L8GO"
      }
    },
    {
      "cell_type": "code",
      "execution_count": null,
      "metadata": {
        "id": "xKSSRrUw52mt"
      },
      "outputs": [],
      "source": [
        "# RandomForestClassifier:\n",
        "from sklearn.ensemble import RandomForestClassifier\n",
        "from sklearn.metrics import accuracy_score, confusion_matrix, classification_report"
      ]
    },
    {
      "cell_type": "code",
      "source": [
        "#Realizando o treinamento (fit) com os dados de treino\n",
        "RandomForest = RandomForestClassifier()\n",
        "RandomForest = RandomForest.fit(X_train,y_train)"
      ],
      "metadata": {
        "id": "ggl7sx3fLyZE"
      },
      "execution_count": null,
      "outputs": []
    },
    {
      "cell_type": "code",
      "source": [
        "# Fazendo Previsões com dados de teste:\n",
        "y_pred = RandomForest.predict(X_test)"
      ],
      "metadata": {
        "id": "JmxMfLOGL0Zv"
      },
      "execution_count": null,
      "outputs": []
    },
    {
      "cell_type": "code",
      "source": [
        "# Avaliando a Performance comparando com o gabarito (y) de teste:\n",
        "print('Accuracy:', accuracy_score(y_test,y_pred))\n",
        "print(classification_report(y_test,y_pred))"
      ],
      "metadata": {
        "id": "t6mhNJWNMkGI",
        "colab": {
          "base_uri": "https://localhost:8080/"
        },
        "outputId": "4c273a53-abc6-4e74-d301-fb2d99ecf496"
      },
      "execution_count": null,
      "outputs": [
        {
          "output_type": "stream",
          "name": "stdout",
          "text": [
            "Accuracy: 0.975\n",
            "              precision    recall  f1-score   support\n",
            "\n",
            "           0       1.00      0.95      0.97        58\n",
            "           1       0.95      1.00      0.98        62\n",
            "\n",
            "    accuracy                           0.97       120\n",
            "   macro avg       0.98      0.97      0.97       120\n",
            "weighted avg       0.98      0.97      0.97       120\n",
            "\n"
          ]
        }
      ]
    },
    {
      "cell_type": "markdown",
      "source": [
        "### 4.4 - Criando a MP com o Algoritmo **GradientBoosting**"
      ],
      "metadata": {
        "id": "D5ipVL97Mx4r"
      }
    },
    {
      "cell_type": "code",
      "execution_count": null,
      "metadata": {
        "id": "vXvpbb_Z52mu",
        "colab": {
          "base_uri": "https://localhost:8080/"
        },
        "outputId": "d9c234e8-0f19-4ae1-de14-5632ad4db61c"
      },
      "outputs": [
        {
          "output_type": "stream",
          "name": "stdout",
          "text": [
            "Accuracy: 0.9916666666666667\n",
            "              precision    recall  f1-score   support\n",
            "\n",
            "           0       0.98      1.00      0.99        58\n",
            "           1       1.00      0.98      0.99        62\n",
            "\n",
            "    accuracy                           0.99       120\n",
            "   macro avg       0.99      0.99      0.99       120\n",
            "weighted avg       0.99      0.99      0.99       120\n",
            "\n"
          ]
        }
      ],
      "source": [
        "# GradientBoostingClassifier:\n",
        "from sklearn.ensemble import GradientBoostingClassifier\n",
        "GradientBoost = GradientBoostingClassifier(n_estimators=2000)\n",
        "GradientBoost = GradientBoost.fit(X_train,y_train)\n",
        "\n",
        "# Predictions:\n",
        "y_pred = GradientBoost.predict(X_test)\n",
        "\n",
        "# Performance:\n",
        "print('Accuracy:', accuracy_score(y_test,y_pred))\n",
        "\n",
        "print(classification_report(y_test,y_pred))"
      ]
    },
    {
      "cell_type": "markdown",
      "source": [
        "### 4.5 Salvamento da Máquina Preditiva"
      ],
      "metadata": {
        "id": "lzp3TMPFN7Jq"
      }
    },
    {
      "cell_type": "code",
      "source": [
        "# Creating a pickle file for the classifier\n",
        "import pickle\n",
        "filename = 'Maquina_Preditiva.pkl'\n",
        "pickle.dump(GradientBoost, open(filename, 'wb'))"
      ],
      "metadata": {
        "id": "fljc6_KcN6g1"
      },
      "execution_count": null,
      "outputs": []
    }
  ]
}